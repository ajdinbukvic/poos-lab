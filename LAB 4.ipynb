{
 "cells": [
  {
   "cell_type": "markdown",
   "metadata": {},
   "source": [
    "# Video - Osnove - LAB 04\n",
    "\n",
    "ZADATAK: Kreirati program koji učitava live video stream sa Vaše kamere. \n",
    "Kada god kliknete lijevim mišem, kreirati plavi krug!"
   ]
  },
  {
   "cell_type": "markdown",
   "metadata": {},
   "source": [
    "**Koraci**\n",
    "\n",
    "* Kreirati draw_circle funkciju kao callback\n",
    "* Koristiti dva eventa cv2.EVENT_LBUTTONDOWN and cv2.EVENT_LBUTTONUP\n",
    "* Koristiti bool varijablu da bi pratili klik mišem\n",
    "* Koristiti vraijable x i y za pračenje gdje se vrši klikanje mišem.\n",
    "* Nacrtati krug na osnovu x,y koordinata sa Event Callback funkcija\n",
    "\n",
    "Dopuniti nepotpuni kod ispod:"
   ]
  },
  {
   "cell_type": "code",
   "execution_count": 6,
   "metadata": {},
   "outputs": [],
   "source": [
    "import cv2\n",
    "# Create a function based on a CV2 Event (Left button click)\n",
    "\n",
    "# mouse callback function\n",
    "def draw_circle(event,x,y,flags,param):\n",
    "\n",
    "    global center,clicked\n",
    "\n",
    "    # get mouse click on down and track center\n",
    "    if event == cv2.EVENT_LBUTTONDOWN:\n",
    "         if clicked == True:\n",
    "            clicked = False;\n",
    "            center = (0,0)\n",
    "    \n",
    "    # Use boolean variable to track if the mouse has been released\n",
    "    elif event == cv2.EVENT_LBUTTONUP:\n",
    "            center = (x,y)\n",
    "            clicked = True\n",
    "\n",
    "        \n",
    "# Haven't drawn anything yet!\n",
    "center = (0,0)\n",
    "clicked = False\n",
    "\n",
    "\n",
    "# Capture Video\n",
    "cap = cv2.VideoCapture(0) \n",
    "\n",
    "# Create a named window for connections\n",
    "cv2.namedWindow('LAB4')\n",
    "\n",
    "# Bind draw_rectangle function to mouse cliks\n",
    "cv2.setMouseCallback('LAB4', draw_circle) \n",
    "\n",
    "\n",
    "while True:\n",
    "    # Capture frame-by-frame\n",
    "    ret, frame = cap.read()\n",
    "\n",
    "    # Use if statement to see if clicked is true\n",
    "   \n",
    "    # Draw circle on frame\n",
    "    \n",
    "    if clicked:\n",
    "        cv2.circle(frame, center, radius=20, color=(255,0,0), thickness=-1)\n",
    "        \n",
    "    # Display the resulting frame\n",
    "    cv2.imshow('LAB4', frame)\n",
    "\n",
    "    # This command let's us quit with the \"q\" button on a keyboard.\n",
    "    # Simply pressing X on the window won't work!\n",
    "    if cv2.waitKey(1) & 0xFF == ord('q'):\n",
    "        break\n",
    "   \n",
    "\n",
    "# When everything is done, release the capture\n",
    "cap.release()\n",
    "cv2.destroyAllWindows()"
   ]
  }
 ],
 "metadata": {
  "kernelspec": {
   "display_name": "Python 3",
   "language": "python",
   "name": "python3"
  },
  "language_info": {
   "codemirror_mode": {
    "name": "ipython",
    "version": 3
   },
   "file_extension": ".py",
   "mimetype": "text/x-python",
   "name": "python",
   "nbconvert_exporter": "python",
   "pygments_lexer": "ipython3",
   "version": "3.6.13"
  }
 },
 "nbformat": 4,
 "nbformat_minor": 4
}
